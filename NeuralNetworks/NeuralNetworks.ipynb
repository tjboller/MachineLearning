{
 "cells": [
  {
   "cell_type": "markdown",
   "metadata": {},
   "source": [
    "#NeuralNetworks\n"
   ]
  },
  {
   "cell_type": "code",
   "execution_count": 1,
   "metadata": {
    "collapsed": false
   },
   "outputs": [
    {
     "name": "stderr",
     "output_type": "stream",
     "text": [
      "C:\\Users\\TJ\\Anaconda\\lib\\site-packages\\matplotlib\\__init__.py:872: UserWarning: axes.color_cycle is deprecated and replaced with axes.prop_cycle; please use the latter.\n",
      "  warnings.warn(self.msg_depr % (key, alt_key))\n"
     ]
    }
   ],
   "source": [
    "import pandas as pd\n",
    "import matplotlib.pyplot as plt\n",
    "import seaborn as sns\n",
    "from scipy import io, special\n",
    "import numpy as np\n",
    "from __future__ import division\n",
    "%matplotlib inline"
   ]
  },
  {
   "cell_type": "code",
   "execution_count": 2,
   "metadata": {
    "collapsed": true
   },
   "outputs": [],
   "source": [
    "sigmoid = sp.expit\n"
   ]
  },
  {
   "cell_type": "code",
   "execution_count": null,
   "metadata": {
    "collapsed": true
   },
   "outputs": [],
   "source": [
    "class NeuralNetwork:\n",
    "    '''\n",
    "        Defines a class structure for handling nueral networks\n",
    "    '''\n",
    "    \n",
    "    def __init__(self,num_hidden_layers, num_units_per_layer)\n",
    "        self.num_hidden_layers = num_hidden_layers\n",
    "        self.num_units_per_layer = num_units_per_layer\n",
    "        self.thetas = \n",
    "        \n",
    "    def init_thetas(n,m):\n",
    "        epsilon = np.sqrt(6)/np.sqrt(n+m)\n",
    "        return np.random.rand(n,m) * 2 * epsilon - epsilon\n",
    "    "
   ]
  },
  {
   "cell_type": "code",
   "execution_count": null,
   "metadata": {
    "collapsed": true
   },
   "outputs": [],
   "source": []
  },
  {
   "cell_type": "code",
   "execution_count": 2,
   "metadata": {
    "collapsed": false
   },
   "outputs": [],
   "source": [
    "data = sio.loadmat('ex4data1.mat')\n",
    "weights = sio.loadmat('ex4weights.mat')"
   ]
  },
  {
   "cell_type": "code",
   "execution_count": 4,
   "metadata": {
    "collapsed": false
   },
   "outputs": [],
   "source": [
    "def sigmoid_grad(x):\n",
    "    return sigmoid(x)*(1-sigmoid(x))"
   ]
  },
  {
   "cell_type": "code",
   "execution_count": 5,
   "metadata": {
    "collapsed": false
   },
   "outputs": [],
   "source": [
    "def cost(X, y, Thetas, reg_const=1):\n",
    "    \n",
    "    _cost = 0\n",
    "    index = 0\n",
    "    for example in X:\n",
    "        \n",
    "        _output = output(example,Thetas)\n",
    "        _output = np.roll(_output,1)\n",
    "        _cost += sum(-y[index] * np.log(_output) - (1 - y[index]) * np.log(1-_output))\n",
    "        index +=1\n",
    "        \n",
    "    if reg_const<=0:\n",
    "        return (1/len(X)) * _cost\n",
    "            \n",
    "    \n",
    "    else:\n",
    "        reg = 0\n",
    "        for Theta in Thetas:\n",
    "            reg += sum(Theta.ravel()**2)\n",
    "            \n",
    "        return (1/len(X)) * (_cost + (reg_const/2)*reg)\n"
   ]
  },
  {
   "cell_type": "code",
   "execution_count": 6,
   "metadata": {
    "collapsed": true
   },
   "outputs": [],
   "source": [
    "def output(image, Thetas):\n",
    "    def output(image, Thetas, depth):\n",
    "        Theta = Thetas[depth]\n",
    "        image = np.insert(image,0,1)\n",
    "        \n",
    "        if depth == len(Thetas) - 1:\n",
    "            return sigmoid(Theta.dot(image))\n",
    "        \n",
    "        \n",
    "        return output(sigmoid(Theta.dot(image)), Thetas, depth = depth + 1)\n",
    "    return output(image, Thetas, 0)\n",
    "    "
   ]
  },
  {
   "cell_type": "code",
   "execution_count": 9,
   "metadata": {
    "collapsed": false
   },
   "outputs": [],
   "source": [
    "def categorize(outputs):\n",
    "    \n",
    "    # Initialize list\n",
    "    predictions = []\n",
    "    \n",
    "    # For each image, calculate the classification\n",
    "    for output in outputs:\n",
    "        predictions.append(np.argmax(output))\n",
    "\n",
    "    return predictions\n",
    "\n",
    "\n",
    "def nnPredict(X,Thetas):\n",
    "\n",
    "    # Initialize list\n",
    "    predictions = []\n",
    "    \n",
    "    # For each image, calculate the classification\n",
    "    for example in X:\n",
    "        predictions.append(np.argmax(output(example,Thetas)))\n",
    "\n",
    "    return predictions\n"
   ]
  },
  {
   "cell_type": "code",
   "execution_count": 34,
   "metadata": {
    "collapsed": true
   },
   "outputs": [],
   "source": []
  },
  {
   "cell_type": "code",
   "execution_count": 10,
   "metadata": {
    "collapsed": false,
    "scrolled": true
   },
   "outputs": [],
   "source": [
    "neural_net = nnPredict(trainingImages,Thetas)\n",
    "neural_net = np.array([(label+1)%10 for label in neural_net])"
   ]
  },
  {
   "cell_type": "code",
   "execution_count": 14,
   "metadata": {
    "collapsed": false
   },
   "outputs": [
    {
     "data": {
      "text/plain": [
       "0.28762916516131892"
      ]
     },
     "execution_count": 14,
     "metadata": {},
     "output_type": "execute_result"
    }
   ],
   "source": [
    "cost(trainingImages,_digits,Thetas,reg_const=0)"
   ]
  },
  {
   "cell_type": "code",
   "execution_count": 15,
   "metadata": {
    "collapsed": false,
    "scrolled": true
   },
   "outputs": [
    {
     "data": {
      "text/plain": [
       "0.97519999999999996"
      ]
     },
     "execution_count": 15,
     "metadata": {},
     "output_type": "execute_result"
    }
   ],
   "source": [
    "sum(neural_net == digits_fl)/len(neural_net)"
   ]
  },
  {
   "cell_type": "code",
   "execution_count": 12,
   "metadata": {
    "collapsed": false
   },
   "outputs": [],
   "source": [
    "_digits = np.zeros((5000,10))"
   ]
  },
  {
   "cell_type": "code",
   "execution_count": 13,
   "metadata": {
    "collapsed": false
   },
   "outputs": [],
   "source": [
    "for index in range(len(_digits)):\n",
    "    _digits[index][digits_fl[index]] = 1"
   ]
  },
  {
   "cell_type": "code",
   "execution_count": 16,
   "metadata": {
    "collapsed": false
   },
   "outputs": [],
   "source": [
    "test = trainingImages[0,:]"
   ]
  },
  {
   "cell_type": "code",
   "execution_count": 69,
   "metadata": {
    "collapsed": false
   },
   "outputs": [],
   "source": [
    "total = 0\n",
    "for index in range(len(trainingImages)):\n",
    "    a = np.roll(output(trainingImages[index,:],Thetas),1)\n",
    "    total += cost(a, _digits[index])\n",
    "total += reg_cost(Thetas, reg_const=1)"
   ]
  },
  {
   "cell_type": "code",
   "execution_count": 70,
   "metadata": {
    "collapsed": false,
    "scrolled": true
   },
   "outputs": [
    {
     "data": {
      "text/plain": [
       "0.38448779624289375"
      ]
     },
     "execution_count": 70,
     "metadata": {},
     "output_type": "execute_result"
    }
   ],
   "source": [
    "(1/5000) * total"
   ]
  },
  {
   "cell_type": "code",
   "execution_count": 39,
   "metadata": {
    "collapsed": false
   },
   "outputs": [
    {
     "data": {
      "text/plain": [
       "0.0035032404942903191"
      ]
     },
     "execution_count": 39,
     "metadata": {},
     "output_type": "execute_result"
    }
   ],
   "source": [
    "\n",
    "a = np.roll(output(trainingImages[1,:],Thetas),1)\n",
    "cost(a, _digits[1], Thetas,reg_const=0)"
   ]
  },
  {
   "cell_type": "code",
   "execution_count": 23,
   "metadata": {
    "collapsed": false
   },
   "outputs": [
    {
     "ename": "NameError",
     "evalue": "name 'y' is not defined",
     "output_type": "error",
     "traceback": [
      "\u001b[1;31m---------------------------------------------------------------------------\u001b[0m",
      "\u001b[1;31mNameError\u001b[0m                                 Traceback (most recent call last)",
      "\u001b[1;32m<ipython-input-23-9fd2a0a0d844>\u001b[0m in \u001b[0;36m<module>\u001b[1;34m()\u001b[0m\n\u001b[1;32m----> 1\u001b[1;33m \u001b[1;33m(\u001b[0m\u001b[1;36m1\u001b[0m\u001b[1;33m/\u001b[0m\u001b[0mlen\u001b[0m\u001b[1;33m(\u001b[0m\u001b[0my\u001b[0m\u001b[1;33m)\u001b[0m\u001b[1;33m)\u001b[0m \u001b[1;33m*\u001b[0m \u001b[0msum\u001b[0m\u001b[1;33m(\u001b[0m\u001b[1;33m-\u001b[0m\u001b[0my\u001b[0m \u001b[1;33m*\u001b[0m \u001b[0mnp\u001b[0m\u001b[1;33m.\u001b[0m\u001b[0mlog\u001b[0m\u001b[1;33m(\u001b[0m\u001b[0moutput\u001b[0m\u001b[1;33m)\u001b[0m \u001b[1;33m-\u001b[0m \u001b[1;33m(\u001b[0m\u001b[1;36m1\u001b[0m \u001b[1;33m-\u001b[0m \u001b[0my\u001b[0m\u001b[1;33m)\u001b[0m \u001b[1;33m*\u001b[0m \u001b[0mnp\u001b[0m\u001b[1;33m.\u001b[0m\u001b[0mlog\u001b[0m\u001b[1;33m(\u001b[0m\u001b[1;36m1\u001b[0m\u001b[1;33m-\u001b[0m\u001b[0moutput\u001b[0m\u001b[1;33m)\u001b[0m\u001b[1;33m)\u001b[0m\u001b[1;33m\u001b[0m\u001b[0m\n\u001b[0m",
      "\u001b[1;31mNameError\u001b[0m: name 'y' is not defined"
     ]
    }
   ],
   "source": [
    "(1/len(y)) * sum(-y * np.log(output) - (1 - y) * np.log(1-output))"
   ]
  },
  {
   "cell_type": "code",
   "execution_count": 28,
   "metadata": {
    "collapsed": false
   },
   "outputs": [
    {
     "data": {
      "text/plain": [
       "array([  9.81212670e-01,   1.77130603e-02,   1.98089679e-03,\n",
       "         1.63701228e-03,   1.66140183e-03,   7.79555251e-04,\n",
       "         1.70240546e-03,   1.07248964e-02,   1.25880085e-04,\n",
       "         3.00769987e-04])"
      ]
     },
     "execution_count": 28,
     "metadata": {},
     "output_type": "execute_result"
    }
   ],
   "source": [
    "output(trainingImages[500,:],Thetas)"
   ]
  },
  {
   "cell_type": "code",
   "execution_count": 29,
   "metadata": {
    "collapsed": false
   },
   "outputs": [
    {
     "data": {
      "text/plain": [
       "<matplotlib.image.AxesImage at 0x20b08978>"
      ]
     },
     "execution_count": 29,
     "metadata": {},
     "output_type": "execute_result"
    },
    {
     "data": {
      "image/png": "[encoded data removed]",
      "text/plain": [
       "<matplotlib.figure.Figure at 0x1dc0f780>"
      ]
     },
     "metadata": {},
     "output_type": "display_data"
    }
   ],
   "source": [
    "plt.imshow(trainingImages[500,:].reshape(20,20))"
   ]
  },
  {
   "cell_type": "code",
   "execution_count": 56,
   "metadata": {
    "collapsed": false
   },
   "outputs": [
    {
     "data": {
      "text/plain": [
       "array([ -2.25623899e-02,  -1.05624163e-08,   2.19414684e-09, ...,\n",
       "        -1.80365926e-06,  -8.14464807e-06,   8.79454531e-09])"
      ]
     },
     "execution_count": 56,
     "metadata": {},
     "output_type": "execute_result"
    }
   ],
   "source": [
    "Thetas[0].ravel()"
   ]
  },
  {
   "cell_type": "code",
   "execution_count": null,
   "metadata": {
    "collapsed": true
   },
   "outputs": [],
   "source": [
    "def feedforward(images,Thetas):\n",
    "\n",
    "    # Initialize list\n",
    "    neural_net = []\n",
    "    \n",
    "    \n",
    "    def output(image, Thetas, depth=0):\n",
    "\n",
    "        Theta = Thetas[depth]\n",
    "        image = np.insert(image,0,1)\n",
    "        \n",
    "        \n",
    "        \n",
    "        if depth == len(Thetas) - 1:\n",
    "            return sigmoid(Theta.dot(image))\n",
    "        \n",
    "        \n",
    "        return output(sigmoid(Theta.dot(image)), Thetas, depth = depth + 1)\n",
    "    \n",
    "    # For each image, calculate the classification\n",
    "    for image in images:\n",
    "        neural_net.append(np.argmax( output(image,Thetas)))\n",
    "\n",
    "    return neural_net\n",
    "\n",
    "\n",
    "neural_net = feedforward(trainingImages, Thetas)\n",
    "\n",
    "# Convert matlabs labeling to our own\n",
    "neural_net = np.array([(label+1)%10 for label in neural_net])"
   ]
  }
 ],
 "metadata": {
  "kernelspec": {
   "display_name": "Python 2",
   "language": "python",
   "name": "python2"
  },
  "language_info": {
   "codemirror_mode": {
    "name": "ipython",
    "version": 2
   },
   "file_extension": ".py",
   "mimetype": "text/x-python",
   "name": "python",
   "nbconvert_exporter": "python",
   "pygments_lexer": "ipython2",
   "version": "2.7.11"
  }
 },
 "nbformat": 4,
 "nbformat_minor": 0
}
